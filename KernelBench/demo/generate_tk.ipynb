{
 "cells": [
  {
   "cell_type": "markdown",
   "id": "64857e6f",
   "metadata": {},
   "source": [
    "# Generating ThunderKittens with LLMs\n",
    "\n",
    "Can LLMs write good thunderkittens?"
   ]
  },
  {
   "cell_type": "code",
   "execution_count": null,
   "id": "851665d0",
   "metadata": {},
   "outputs": [],
   "source": [
    "# Prerequisites\n",
    "import pydra\n",
    "from pydra import REQUIRED, Config\n",
    "import os, sys\n",
    "import torch\n",
    "import json\n",
    "import modal\n",
    "import dspy\n",
    "import textwrap\n",
    "\n",
    "from dotenv import load_dotenv\n",
    "load_dotenv()\n",
    "\n",
    "from datasets import load_dataset\n",
    "\n",
    "from src.dataset import construct_kernelbench_dataset\n",
    "from src.eval import eval_kernel_against_ref\n",
    "from src.prompt_constructor_rag import prompt_generate_custom_dsl_rag_enhanced\n",
    "from src.utils import extract_first_code, extract_code_block, extract_all_code_blocks, create_tk_makefile, set_gpu_arch, read_file, strip_docstring_from_code\n",
    "\n",
    "# ThunderKittens-specific prompts\n",
    "from scripts.tk_paperinfo_prompt import TK_PAPER_PROMPT\n",
    "from scripts.tk_guideline_prompt import TK_GUIDELINE_PROMPT\n"
   ]
  },
  {
   "cell_type": "code",
   "execution_count": null,
   "id": "158989b5",
   "metadata": {
    "vscode": {
     "languageId": "plaintext"
    }
   },
   "outputs": [],
   "source": []
  }
 ],
 "metadata": {
  "language_info": {
   "name": "python"
  }
 },
 "nbformat": 4,
 "nbformat_minor": 5
}
