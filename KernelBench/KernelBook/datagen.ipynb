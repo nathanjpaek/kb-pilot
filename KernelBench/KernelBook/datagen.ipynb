{
 "cells": [
  {
   "cell_type": "code",
   "execution_count": 1,
   "metadata": {},
   "outputs": [],
   "source": [
    "import pandas as pd\n",
    "\n",
    "df = pd.read_parquet('dataset_permissive.parquet')"
   ]
  },
  {
   "cell_type": "code",
   "execution_count": 2,
   "metadata": {},
   "outputs": [
    {
     "data": {
      "text/plain": [
       "18162"
      ]
     },
     "execution_count": 2,
     "metadata": {},
     "output_type": "execute_result"
    }
   ],
   "source": [
    "len(df)"
   ]
  },
  {
   "cell_type": "code",
   "execution_count": 3,
   "metadata": {},
   "outputs": [
    {
     "data": {
      "text/html": [
       "<div>\n",
       "<style scoped>\n",
       "    .dataframe tbody tr th:only-of-type {\n",
       "        vertical-align: middle;\n",
       "    }\n",
       "\n",
       "    .dataframe tbody tr th {\n",
       "        vertical-align: top;\n",
       "    }\n",
       "\n",
       "    .dataframe thead th {\n",
       "        text-align: right;\n",
       "    }\n",
       "</style>\n",
       "<table border=\"1\" class=\"dataframe\">\n",
       "  <thead>\n",
       "    <tr style=\"text-align: right;\">\n",
       "      <th></th>\n",
       "      <th>entry_point</th>\n",
       "      <th>original_triton_code</th>\n",
       "      <th>python_code</th>\n",
       "      <th>triton_code</th>\n",
       "      <th>repo_name</th>\n",
       "      <th>module_name</th>\n",
       "      <th>synthetic</th>\n",
       "      <th>uuid</th>\n",
       "      <th>licenses</th>\n",
       "      <th>stars</th>\n",
       "      <th>sha</th>\n",
       "      <th>repo_link</th>\n",
       "    </tr>\n",
       "  </thead>\n",
       "  <tbody>\n",
       "    <tr>\n",
       "      <th>0</th>\n",
       "      <td>SumAggregator</td>\n",
       "      <td># AOT ID: ['0_inference']\\nfrom ctypes import ...</td>\n",
       "      <td>import torch\\nimport torch.nn as nn\\n\\n\\nclass...</td>\n",
       "      <td>import torch\\nimport triton\\nimport triton.lan...</td>\n",
       "      <td>AlexMinhao/NAS_GNN</td>\n",
       "      <td>SumAggregator</td>\n",
       "      <td>False</td>\n",
       "      <td>0</td>\n",
       "      <td>[Apache-2.0]</td>\n",
       "      <td>0</td>\n",
       "      <td>89183988a96e1d6baed910ab3843c13282f8b077</td>\n",
       "      <td>https://github.com/AlexMinhao/NAS_GNN/tree/891...</td>\n",
       "    </tr>\n",
       "    <tr>\n",
       "      <th>1</th>\n",
       "      <td>LinearEmbedding</td>\n",
       "      <td># AOT ID: ['0_forward']\\nfrom ctypes import c_...</td>\n",
       "      <td>import math\\nimport torch\\nimport torch.utils....</td>\n",
       "      <td>import torch\\nfrom torch._inductor.select_algo...</td>\n",
       "      <td>Akhil-Raj/Trajectory-Transformer</td>\n",
       "      <td>LinearEmbedding</td>\n",
       "      <td>False</td>\n",
       "      <td>1</td>\n",
       "      <td>[MIT]</td>\n",
       "      <td>0</td>\n",
       "      <td>dd09fda99443f6afb59d962026573162219ea6a9</td>\n",
       "      <td>https://github.com/Akhil-Raj/Trajectory-Transf...</td>\n",
       "    </tr>\n",
       "    <tr>\n",
       "      <th>2</th>\n",
       "      <td>CustomizeLayer</td>\n",
       "      <td># AOT ID: ['0_forward']\\nfrom ctypes import c_...</td>\n",
       "      <td>import torch\\nimport torch.nn as nn\\n\\n\\nclass...</td>\n",
       "      <td>import torch\\nimport triton\\nimport triton.lan...</td>\n",
       "      <td>Abhishekvats1997/Torch-Pruning</td>\n",
       "      <td>CustomizeLayer</td>\n",
       "      <td>False</td>\n",
       "      <td>2</td>\n",
       "      <td>[MIT]</td>\n",
       "      <td>0</td>\n",
       "      <td>b322a42d1c9032cc9644332d33a9662ca6ed44ac</td>\n",
       "      <td>https://github.com/Abhishekvats1997/Torch-Prun...</td>\n",
       "    </tr>\n",
       "    <tr>\n",
       "      <th>3</th>\n",
       "      <td>LayerNorm</td>\n",
       "      <td># AOT ID: ['0_forward']\\nfrom ctypes import c_...</td>\n",
       "      <td>import torch\\nimport torch.nn as nn\\n\\n\\nclass...</td>\n",
       "      <td>import torch\\nimport triton\\nimport triton.lan...</td>\n",
       "      <td>AWilcke/Dissertation</td>\n",
       "      <td>LayerNorm</td>\n",
       "      <td>False</td>\n",
       "      <td>3</td>\n",
       "      <td>[MIT]</td>\n",
       "      <td>0</td>\n",
       "      <td>b85ad38a7f336ee290d5883f5e942f54e140d0d0</td>\n",
       "      <td>https://github.com/AWilcke/Dissertation/tree/b...</td>\n",
       "    </tr>\n",
       "    <tr>\n",
       "      <th>4</th>\n",
       "      <td>LayerNorm</td>\n",
       "      <td># AOT ID: ['0_forward']\\nfrom ctypes import c_...</td>\n",
       "      <td>import torch\\nimport torch.utils.data\\nimport ...</td>\n",
       "      <td>import torch\\nimport triton\\nimport triton.lan...</td>\n",
       "      <td>Akhil-Raj/Trajectory-Transformer</td>\n",
       "      <td>LayerNorm</td>\n",
       "      <td>False</td>\n",
       "      <td>4</td>\n",
       "      <td>[MIT]</td>\n",
       "      <td>0</td>\n",
       "      <td>dd09fda99443f6afb59d962026573162219ea6a9</td>\n",
       "      <td>https://github.com/Akhil-Raj/Trajectory-Transf...</td>\n",
       "    </tr>\n",
       "  </tbody>\n",
       "</table>\n",
       "</div>"
      ],
      "text/plain": [
       "       entry_point                               original_triton_code  \\\n",
       "0    SumAggregator  # AOT ID: ['0_inference']\\nfrom ctypes import ...   \n",
       "1  LinearEmbedding  # AOT ID: ['0_forward']\\nfrom ctypes import c_...   \n",
       "2   CustomizeLayer  # AOT ID: ['0_forward']\\nfrom ctypes import c_...   \n",
       "3        LayerNorm  # AOT ID: ['0_forward']\\nfrom ctypes import c_...   \n",
       "4        LayerNorm  # AOT ID: ['0_forward']\\nfrom ctypes import c_...   \n",
       "\n",
       "                                         python_code  \\\n",
       "0  import torch\\nimport torch.nn as nn\\n\\n\\nclass...   \n",
       "1  import math\\nimport torch\\nimport torch.utils....   \n",
       "2  import torch\\nimport torch.nn as nn\\n\\n\\nclass...   \n",
       "3  import torch\\nimport torch.nn as nn\\n\\n\\nclass...   \n",
       "4  import torch\\nimport torch.utils.data\\nimport ...   \n",
       "\n",
       "                                         triton_code  \\\n",
       "0  import torch\\nimport triton\\nimport triton.lan...   \n",
       "1  import torch\\nfrom torch._inductor.select_algo...   \n",
       "2  import torch\\nimport triton\\nimport triton.lan...   \n",
       "3  import torch\\nimport triton\\nimport triton.lan...   \n",
       "4  import torch\\nimport triton\\nimport triton.lan...   \n",
       "\n",
       "                          repo_name      module_name  synthetic  uuid  \\\n",
       "0                AlexMinhao/NAS_GNN    SumAggregator      False     0   \n",
       "1  Akhil-Raj/Trajectory-Transformer  LinearEmbedding      False     1   \n",
       "2    Abhishekvats1997/Torch-Pruning   CustomizeLayer      False     2   \n",
       "3              AWilcke/Dissertation        LayerNorm      False     3   \n",
       "4  Akhil-Raj/Trajectory-Transformer        LayerNorm      False     4   \n",
       "\n",
       "       licenses  stars                                       sha  \\\n",
       "0  [Apache-2.0]      0  89183988a96e1d6baed910ab3843c13282f8b077   \n",
       "1         [MIT]      0  dd09fda99443f6afb59d962026573162219ea6a9   \n",
       "2         [MIT]      0  b322a42d1c9032cc9644332d33a9662ca6ed44ac   \n",
       "3         [MIT]      0  b85ad38a7f336ee290d5883f5e942f54e140d0d0   \n",
       "4         [MIT]      0  dd09fda99443f6afb59d962026573162219ea6a9   \n",
       "\n",
       "                                           repo_link  \n",
       "0  https://github.com/AlexMinhao/NAS_GNN/tree/891...  \n",
       "1  https://github.com/Akhil-Raj/Trajectory-Transf...  \n",
       "2  https://github.com/Abhishekvats1997/Torch-Prun...  \n",
       "3  https://github.com/AWilcke/Dissertation/tree/b...  \n",
       "4  https://github.com/Akhil-Raj/Trajectory-Transf...  "
      ]
     },
     "execution_count": 3,
     "metadata": {},
     "output_type": "execute_result"
    }
   ],
   "source": [
    "df.head()"
   ]
  },
  {
   "cell_type": "code",
   "execution_count": 4,
   "metadata": {},
   "outputs": [
    {
     "data": {
      "text/plain": [
       "entry_point                                                     AngleLoss\n",
       "original_triton_code    # AOT ID: ['0_inference']\\nfrom ctypes import ...\n",
       "python_code             import torch\\nfrom torch import nn\\nimport tor...\n",
       "triton_code             import torch\\nimport triton\\nimport triton.lan...\n",
       "repo_name                                    DeVriesMatt/pointMLP-pytorch\n",
       "module_name                                                     AngleLoss\n",
       "synthetic                                                           False\n",
       "uuid                                                                  365\n",
       "licenses                                                     [Apache-2.0]\n",
       "stars                                                                   0\n",
       "sha                              e9c09a2038551e83b072353f3fd7e3294463e892\n",
       "repo_link               https://github.com/DeVriesMatt/pointMLP-pytorc...\n",
       "Name: 348, dtype: object"
      ]
     },
     "execution_count": 4,
     "metadata": {},
     "output_type": "execute_result"
    }
   ],
   "source": [
    "df.iloc[348]"
   ]
  },
  {
   "cell_type": "code",
   "execution_count": 5,
   "metadata": {},
   "outputs": [
    {
     "name": "stdout",
     "output_type": "stream",
     "text": [
      "import torch\n",
      "from torch import nn\n",
      "import torch.nn.functional as F\n",
      "import torch.nn.parallel\n",
      "import torch.optim\n",
      "import torch.utils.data\n",
      "import torch.utils.data.distributed\n",
      "from typing import *\n",
      "\n",
      "\n",
      "class AngleLoss(nn.Module):\n",
      "\n",
      "    def __init__(self):\n",
      "        super(AngleLoss, self).__init__()\n",
      "\n",
      "    def forward(self, angle, angle_hat):\n",
      "        return torch.exp(F.mse_loss(angle_hat.float(), angle.float())) - 1\n",
      "\n",
      "\n",
      "def get_inputs():\n",
      "    return [torch.rand([4, 4, 4, 4]), torch.rand([4, 4, 4, 4])]\n",
      "\n",
      "\n",
      "def get_init_inputs():\n",
      "    return [[], {}]\n",
      "\n"
     ]
    }
   ],
   "source": [
    "example_row = df.iloc[348]\n",
    "print(example_row['python_code'])"
   ]
  },
  {
   "cell_type": "code",
   "execution_count": 6,
   "metadata": {},
   "outputs": [
    {
     "name": "stdout",
     "output_type": "stream",
     "text": [
      "import torch\n",
      "from torch import nn\n",
      "import torch.nn.functional as F\n",
      "import torch.nn.parallel\n",
      "import torch.optim\n",
      "import torch.utils.data\n",
      "import torch.utils.data.distributed\n",
      "from typing import *\n",
      "\n",
      "\n",
      "class AngleLoss(nn.Module):\n",
      "\n",
      "    def __init__(self):\n",
      "        super(AngleLoss, self).__init__()\n",
      "\n",
      "    def forward(self, angle, angle_hat):\n",
      "        return torch.exp(F.mse_loss(angle_hat.float(), angle.float())) - 1\n",
      "\n",
      "\n",
      "def get_inputs():\n",
      "    return [torch.rand([4, 4, 4, 4]), torch.rand([4, 4, 4, 4])]\n",
      "\n",
      "\n",
      "def get_init_inputs():\n",
      "    return [[], {}]\n",
      "\n"
     ]
    }
   ],
   "source": [
    "import re\n",
    "# replace the entry in the python code with \"Model\"\n",
    "def fix_python_code(code, entry_point):\n",
    "    model_pattern = f\"class {entry_point}(nn.Module):\"\n",
    "    super_pattern = f\"super({entry_point})\"\n",
    "    \n",
    "    # assert that each pattern appears only once in the code\n",
    "    assert code.count(model_pattern) == 1, f\"Model pattern must appear only once in the code: {model_pattern}\"\n",
    "    assert code.count(super_pattern) <= 1, f\"Super pattern must appear only once in the code: {super_pattern}\"\n",
    "    \n",
    "    code = re.sub(model_pattern, \"class Model(nn.Module):\", code)\n",
    "    code = re.sub(super_pattern, \"super(Model)\", code)\n",
    "\n",
    "    return code\n",
    "\n",
    "print(fix_python_code(example_row['python_code'], example_row['entry_point']))"
   ]
  },
  {
   "cell_type": "code",
   "execution_count": 7,
   "metadata": {},
   "outputs": [
    {
     "data": {
      "text/plain": [
       "'54_Linear_soft_plus.py'"
      ]
     },
     "execution_count": 7,
     "metadata": {},
     "output_type": "execute_result"
    }
   ],
   "source": [
    "import os \n",
    "ref_arch_path = \"KernelBench/KernelBench/level9/54_Linear_soft_plus.py\"\n",
    "os.path.basename(ref_arch_path)"
   ]
  },
  {
   "cell_type": "code",
   "execution_count": 8,
   "metadata": {},
   "outputs": [
    {
     "name": "stdout",
     "output_type": "stream",
     "text": [
      "Linear_soft_plus\n"
     ]
    }
   ],
   "source": [
    "problem_name = \"54_Linear_soft_plus.py\"\n",
    "name = problem_name.replace(\".py\", \"\")\n",
    "first_underscore = name.find(\"_\")\n",
    "entry_point = name[first_underscore+1:]\n",
    "print(entry_point)"
   ]
  },
  {
   "cell_type": "code",
   "execution_count": 9,
   "metadata": {},
   "outputs": [],
   "source": [
    "# # Loop through each row in the dataframe and write the python code to a file\n",
    "# import os\n",
    "# from tqdm import tqdm\n",
    "\n",
    "# output_dir = '../KernelBench/level9'\n",
    "# problem_id = 1\n",
    "\n",
    "# for index, row in tqdm(df.iterrows(), total=len(df)):\n",
    "#     entry_point = row['entry_point']\n",
    "#     python_code = row['python_code']\n",
    "#     file_name = f\"{problem_id}_{entry_point}.py\"\n",
    "#     problem_id += 1\n",
    "    \n",
    "#     assert \"def get_init_inputs():\\n    return [[]\" in python_code, f\"get_init_inputs() not found in {file_name}\"\n",
    "#     # with open(os.path.join(output_dir, file_name), 'w') as f:\n",
    "#     #     f.write(python_code)"
   ]
  }
 ],
 "metadata": {
  "kernelspec": {
   "display_name": "kernel-bench",
   "language": "python",
   "name": "python3"
  },
  "language_info": {
   "codemirror_mode": {
    "name": "ipython",
    "version": 3
   },
   "file_extension": ".py",
   "mimetype": "text/x-python",
   "name": "python",
   "nbconvert_exporter": "python",
   "pygments_lexer": "ipython3",
   "version": "3.10.16"
  }
 },
 "nbformat": 4,
 "nbformat_minor": 2
}
